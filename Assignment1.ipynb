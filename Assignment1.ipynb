{
 "metadata": {
  "language_info": {
   "codemirror_mode": {
    "name": "ipython",
    "version": 3
   },
   "file_extension": ".py",
   "mimetype": "text/x-python",
   "name": "python",
   "nbconvert_exporter": "python",
   "pygments_lexer": "ipython3",
   "version": "3.8.5"
  },
  "orig_nbformat": 2,
  "kernelspec": {
   "name": "python385jvsc74a57bd0f58de355eaeeab151c79699a18b610ce44b8eeda43c73b39c5888f617d036b90",
   "display_name": "Python 3.8.5 64-bit ('base': conda)"
  }
 },
 "nbformat": 4,
 "nbformat_minor": 2,
 "cells": [
  {
   "source": [
    "# Assignment 1"
   ],
   "cell_type": "markdown",
   "metadata": {}
  },
  {
   "source": [
    "# Numpy"
   ],
   "cell_type": "markdown",
   "metadata": {}
  },
  {
   "cell_type": "code",
   "execution_count": 143,
   "metadata": {},
   "outputs": [],
   "source": [
    "import numpy as np"
   ]
  },
  {
   "source": [
    "## 1. Create numpy arrays"
   ],
   "cell_type": "markdown",
   "metadata": {}
  },
  {
   "source": [
    "### 1."
   ],
   "cell_type": "markdown",
   "metadata": {}
  },
  {
   "cell_type": "code",
   "execution_count": 144,
   "metadata": {},
   "outputs": [
    {
     "output_type": "stream",
     "name": "stdout",
     "text": [
      "[1 2 3]\n"
     ]
    }
   ],
   "source": [
    "x = [1,2,3]\n",
    "x = np.array(x)\n",
    "print(x)"
   ]
  },
  {
   "source": [
    "### 2."
   ],
   "cell_type": "markdown",
   "metadata": {}
  },
  {
   "cell_type": "code",
   "execution_count": 145,
   "metadata": {},
   "outputs": [
    {
     "output_type": "stream",
     "name": "stdout",
     "text": [
      "[[6. 6.]\n [6. 6.]\n [6. 6.]]\n"
     ]
    }
   ],
   "source": [
    "x = 6 * np.ones((3,2))\n",
    "print(x)"
   ]
  },
  {
   "cell_type": "code",
   "execution_count": 146,
   "metadata": {},
   "outputs": [
    {
     "output_type": "stream",
     "name": "stdout",
     "text": [
      "[[6 6]\n [6 6]\n [6 6]]\n"
     ]
    }
   ],
   "source": [
    "x = np.full((3,2), 6)\n",
    "print(x)"
   ]
  },
  {
   "source": [
    "### 3"
   ],
   "cell_type": "markdown",
   "metadata": {}
  },
  {
   "cell_type": "code",
   "execution_count": 147,
   "metadata": {},
   "outputs": [
    {
     "output_type": "stream",
     "name": "stdout",
     "text": [
      "51.0\n"
     ]
    }
   ],
   "source": [
    "x = np.arange(start = 2, stop = 101, step = 2)\n",
    "avg = np.mean(x)\n",
    "print(avg)"
   ]
  },
  {
   "source": [
    "### 4"
   ],
   "cell_type": "markdown",
   "metadata": {}
  },
  {
   "cell_type": "code",
   "execution_count": 148,
   "metadata": {},
   "outputs": [
    {
     "output_type": "stream",
     "name": "stdout",
     "text": [
      "[[[0.5488135  0.71518937 0.60276338]\n  [0.54488318 0.4236548  0.64589411]\n  [0.43758721 0.891773   0.96366276]]\n\n [[0.38344152 0.79172504 0.52889492]\n  [0.56804456 0.92559664 0.07103606]\n  [0.0871293  0.0202184  0.83261985]]\n\n [[0.77815675 0.87001215 0.97861834]\n  [0.79915856 0.46147936 0.78052918]\n  [0.11827443 0.63992102 0.14335329]]]\n"
     ]
    }
   ],
   "source": [
    "np.random.seed(0)\n",
    "x = np.random.random((3,3,3))\n",
    "print(x)"
   ]
  },
  {
   "source": [
    "### 5"
   ],
   "cell_type": "markdown",
   "metadata": {}
  },
  {
   "cell_type": "code",
   "execution_count": 149,
   "metadata": {},
   "outputs": [
    {
     "output_type": "stream",
     "name": "stdout",
     "text": [
      "[[10 11 12 13]\n [14 15 16 17]\n [18 19 20 21]]\n"
     ]
    }
   ],
   "source": [
    "x = np.arange(10,22)\n",
    "x = np.reshape(x,(3,4))\n",
    "print(x)"
   ]
  },
  {
   "source": [
    "### 6"
   ],
   "cell_type": "markdown",
   "metadata": {}
  },
  {
   "cell_type": "code",
   "execution_count": 150,
   "metadata": {},
   "outputs": [
    {
     "output_type": "stream",
     "name": "stdout",
     "text": [
      "[ 5.  8. 11. 14. 17. 20. 23. 26. 29. 32.]\n"
     ]
    }
   ],
   "source": [
    "x = 5 * np.ones(10)\n",
    "for i in range(1,10):\n",
    "    x[i] = x[i-1] + 3\n",
    "print(x)"
   ]
  },
  {
   "cell_type": "code",
   "execution_count": 151,
   "metadata": {},
   "outputs": [
    {
     "output_type": "stream",
     "name": "stdout",
     "text": [
      "[ 5  8 11 14 17 20 23 26 29 32]\n"
     ]
    }
   ],
   "source": [
    "x = np.arange(5,35,3)\n",
    "print(x)"
   ]
  },
  {
   "source": [
    "### 7"
   ],
   "cell_type": "markdown",
   "metadata": {}
  },
  {
   "cell_type": "code",
   "execution_count": 152,
   "metadata": {},
   "outputs": [
    {
     "output_type": "stream",
     "name": "stdout",
     "text": [
      "total size 800 bytes\n"
     ]
    }
   ],
   "source": [
    "np.random.seed(0)\n",
    "x = np.random.random((10,10))\n",
    "print(\"total size \" + str(x.nbytes) + \" bytes\")"
   ]
  },
  {
   "source": [
    "### 8"
   ],
   "cell_type": "markdown",
   "metadata": {}
  },
  {
   "cell_type": "code",
   "execution_count": 153,
   "metadata": {},
   "outputs": [
    {
     "output_type": "stream",
     "name": "stdout",
     "text": [
      "[nan nan nan nan  1. nan nan nan nan nan]\n"
     ]
    }
   ],
   "source": [
    "x = np.zeros(10)\n",
    "x[:] = np.NaN\n",
    "x[4] = 1\n",
    "print(x)"
   ]
  },
  {
   "source": [
    "### 9"
   ],
   "cell_type": "markdown",
   "metadata": {}
  },
  {
   "cell_type": "code",
   "execution_count": 154,
   "metadata": {},
   "outputs": [
    {
     "output_type": "execute_result",
     "data": {
      "text/plain": [
       "array([49, 48, 47, 46, 45, 44, 43, 42, 41, 40, 39, 38, 37, 36, 35, 34, 33,\n",
       "       32, 31, 30, 29, 28, 27, 26, 25, 24, 23, 22, 21, 20, 19, 18, 17, 16,\n",
       "       15, 14, 13, 12, 11, 10])"
      ]
     },
     "metadata": {},
     "execution_count": 154
    }
   ],
   "source": [
    "x = np.arange(10, 50)\n",
    "x = np.flip(x)\n",
    "x"
   ]
  },
  {
   "source": [
    "### 10"
   ],
   "cell_type": "markdown",
   "metadata": {}
  },
  {
   "cell_type": "code",
   "execution_count": 155,
   "metadata": {},
   "outputs": [
    {
     "output_type": "stream",
     "name": "stdout",
     "text": [
      "[[0.5488135  0.71518937]\n [0.60276338 0.54488318]\n [0.4236548  0.64589411]]\n"
     ]
    }
   ],
   "source": [
    "np.random.seed(0)\n",
    "x = np.random.random((3,2))\n",
    "print(x)\n",
    "\n",
    "#As long as the seed is set we can get the same value in next iteration"
   ]
  },
  {
   "source": [
    "### 11"
   ],
   "cell_type": "markdown",
   "metadata": {}
  },
  {
   "cell_type": "code",
   "execution_count": 156,
   "metadata": {},
   "outputs": [
    {
     "output_type": "stream",
     "name": "stdout",
     "text": [
      "[[1. 1. 1. 1. 1. 1. 1. 1. 1. 1.]\n [1. 0. 0. 0. 0. 0. 0. 0. 0. 1.]\n [1. 0. 0. 0. 0. 0. 0. 0. 0. 1.]\n [1. 0. 0. 0. 0. 0. 0. 0. 0. 1.]\n [1. 0. 0. 0. 0. 0. 0. 0. 0. 1.]\n [1. 0. 0. 0. 0. 0. 0. 0. 0. 1.]\n [1. 0. 0. 0. 0. 0. 0. 0. 0. 1.]\n [1. 0. 0. 0. 0. 0. 0. 0. 0. 1.]\n [1. 0. 0. 0. 0. 0. 0. 0. 0. 1.]\n [1. 1. 1. 1. 1. 1. 1. 1. 1. 1.]]\n"
     ]
    }
   ],
   "source": [
    "x = np.ones((10,10))\n",
    "x[1:-1, 1:-1] = 0\n",
    "print(x)"
   ]
  },
  {
   "source": [
    "### 12"
   ],
   "cell_type": "markdown",
   "metadata": {}
  },
  {
   "cell_type": "code",
   "execution_count": 157,
   "metadata": {},
   "outputs": [
    {
     "output_type": "stream",
     "name": "stdout",
     "text": [
      "[[0. 0. 0. 0. 0. 0. 0.]\n [0. 1. 1. 1. 1. 1. 0.]\n [0. 1. 1. 1. 1. 1. 0.]\n [0. 1. 1. 1. 1. 1. 0.]\n [0. 1. 1. 1. 1. 1. 0.]\n [0. 1. 1. 1. 1. 1. 0.]\n [0. 0. 0. 0. 0. 0. 0.]]\n"
     ]
    }
   ],
   "source": [
    "x = np.ones((5,5))\n",
    "x = np.pad(x, 1)\n",
    "print(x)"
   ]
  },
  {
   "source": [
    "### 13"
   ],
   "cell_type": "markdown",
   "metadata": {}
  },
  {
   "cell_type": "code",
   "execution_count": 158,
   "metadata": {},
   "outputs": [
    {
     "output_type": "stream",
     "name": "stdout",
     "text": [
      "[[1 0 0 0 0]\n [0 2 0 0 0]\n [0 0 3 0 0]\n [0 0 0 4 0]\n [0 0 0 0 5]]\n"
     ]
    }
   ],
   "source": [
    "x = np.arange(1,6)\n",
    "x = np.diag(x)\n",
    "print(x)"
   ]
  },
  {
   "source": [
    "### 14"
   ],
   "cell_type": "markdown",
   "metadata": {}
  },
  {
   "cell_type": "code",
   "execution_count": 159,
   "metadata": {},
   "outputs": [
    {
     "output_type": "stream",
     "name": "stdout",
     "text": [
      "[[0 1 2 3 4]\n [0 1 2 3 4]\n [0 1 2 3 4]\n [0 1 2 3 4]\n [0 1 2 3 4]]\n"
     ]
    }
   ],
   "source": [
    "x = np.arange(5)\n",
    "x = np.tile(x, (5,1))\n",
    "print(x)"
   ]
  },
  {
   "source": [
    "### 15"
   ],
   "cell_type": "markdown",
   "metadata": {}
  },
  {
   "cell_type": "code",
   "execution_count": 160,
   "metadata": {},
   "outputs": [
    {
     "output_type": "stream",
     "name": "stdout",
     "text": [
      "[[ 9 21 36 44 47 64 67 67 83 87]]\n"
     ]
    }
   ],
   "source": [
    "np.random.seed(0)\n",
    "x = np.random.randint(100, size=(1,10))\n",
    "x = np.sort(x)\n",
    "print(x)"
   ]
  },
  {
   "source": [
    "## 2. Operations on numpy arrays"
   ],
   "cell_type": "markdown",
   "metadata": {}
  },
  {
   "source": [
    "### 1."
   ],
   "cell_type": "markdown",
   "metadata": {}
  },
  {
   "cell_type": "code",
   "execution_count": 161,
   "metadata": {},
   "outputs": [
    {
     "output_type": "stream",
     "name": "stdout",
     "text": [
      "8\n"
     ]
    }
   ],
   "source": [
    "x = np.array([1, 2, 1, 1, 3, 4, 3, 1, 1, 2, 1, 1, 2])\n",
    "count = np.cumsum(x == 1)\n",
    "index = np.searchsorted(count, 5)\n",
    "print(index)"
   ]
  },
  {
   "source": [
    "### 2."
   ],
   "cell_type": "markdown",
   "metadata": {}
  },
  {
   "cell_type": "code",
   "execution_count": 162,
   "metadata": {},
   "outputs": [
    {
     "output_type": "stream",
     "name": "stdout",
     "text": [
      "[1 2 3 4] [5 6] [7 8 9]\n"
     ]
    }
   ],
   "source": [
    "x = np.arange(1,10)\n",
    "a,b,c = np.split(x,[4,6])\n",
    "print(a, b, c)"
   ]
  },
  {
   "source": [
    "### 3."
   ],
   "cell_type": "markdown",
   "metadata": {}
  },
  {
   "cell_type": "code",
   "execution_count": 163,
   "metadata": {},
   "outputs": [
    {
     "output_type": "stream",
     "name": "stdout",
     "text": [
      "[[ 0  1  2  3]\n [ 4  5  6  7]\n [ 8  9 10 11]\n [12 13 14 15]]\n"
     ]
    }
   ],
   "source": [
    "x = np.arange(16).reshape(4,4)\n",
    "print(x)"
   ]
  },
  {
   "cell_type": "code",
   "execution_count": 164,
   "metadata": {},
   "outputs": [
    {
     "output_type": "stream",
     "name": "stdout",
     "text": [
      "[array([[ 0,  1],\n       [ 4,  5],\n       [ 8,  9],\n       [12, 13]]), array([[ 2,  3],\n       [ 6,  7],\n       [10, 11],\n       [14, 15]])]\n"
     ]
    }
   ],
   "source": [
    "y = np.split(x, 2, 1)\n",
    "print(y)"
   ]
  },
  {
   "source": [
    "### 4."
   ],
   "cell_type": "markdown",
   "metadata": {}
  },
  {
   "cell_type": "code",
   "execution_count": 165,
   "metadata": {},
   "outputs": [
    {
     "output_type": "stream",
     "name": "stdout",
     "text": [
      "[[10 15]\n [25 30]]\n"
     ]
    }
   ],
   "source": [
    "x = np.arange(5, 50, 5).reshape(3,3)\n",
    "print(x[:2, 1:])"
   ]
  },
  {
   "cell_type": "code",
   "execution_count": 166,
   "metadata": {},
   "outputs": [
    {
     "output_type": "stream",
     "name": "stdout",
     "text": [
      "20\n"
     ]
    }
   ],
   "source": [
    "print(x[1,0])"
   ]
  },
  {
   "source": [
    "### 5."
   ],
   "cell_type": "markdown",
   "metadata": {}
  },
  {
   "cell_type": "code",
   "execution_count": 167,
   "metadata": {},
   "outputs": [
    {
     "output_type": "stream",
     "name": "stdout",
     "text": [
      "[[ 1  2  3  7  8  9]\n [ 4  5  6 10 11 12]]\n"
     ]
    }
   ],
   "source": [
    "x = np.arange(1,7).reshape(2,3)\n",
    "y = np.arange(7,13).reshape(2,3)\n",
    "print(np.concatenate([x,y],axis=1))"
   ]
  },
  {
   "source": [
    "### 6."
   ],
   "cell_type": "markdown",
   "metadata": {}
  },
  {
   "cell_type": "code",
   "execution_count": 168,
   "metadata": {},
   "outputs": [
    {
     "output_type": "execute_result",
     "data": {
      "text/plain": [
       "array([[5, 0, 3],\n",
       "       [3, 7, 9],\n",
       "       [3, 5, 2],\n",
       "       [4, 7, 6],\n",
       "       [8, 8, 1]])"
      ]
     },
     "metadata": {},
     "execution_count": 168
    }
   ],
   "source": [
    "np.random.seed(0)\n",
    "x = np.random.randint(10, size=(5,3))\n",
    "x"
   ]
  },
  {
   "cell_type": "code",
   "execution_count": 169,
   "metadata": {},
   "outputs": [
    {
     "output_type": "stream",
     "name": "stdout",
     "text": [
      "[0 3 2 4 1] [5 9 5 7 8]\n"
     ]
    }
   ],
   "source": [
    "min = np.min(x, axis=1) # row\n",
    "max = np.max(x, axis=1)\n",
    "print(min, max)\n"
   ]
  },
  {
   "cell_type": "code",
   "execution_count": 170,
   "metadata": {},
   "outputs": [
    {
     "output_type": "stream",
     "name": "stdout",
     "text": [
      "[0.         0.33333333 0.4        0.57142857 0.125     ]\n"
     ]
    }
   ],
   "source": [
    "print(min/max)"
   ]
  },
  {
   "source": [
    "### 7."
   ],
   "cell_type": "markdown",
   "metadata": {}
  },
  {
   "cell_type": "code",
   "execution_count": 171,
   "metadata": {},
   "outputs": [
    {
     "output_type": "stream",
     "name": "stdout",
     "text": [
      "5.4 2.6683328128252666\n[[5 0 3 3 7]\n [9 3 5 2 4]\n [7 6 8 8 1]\n [6 7 7 8 1]\n [5 9 8 9 4]]\n[[0.52128604 0.         0.31277162 0.31277162 0.72980045]\n [0.77459667 0.25819889 0.43033148 0.17213259 0.34426519]\n [0.47851015 0.41015156 0.54686874 0.54686874 0.06835859]\n [0.42532872 0.49621684 0.49621684 0.56710496 0.07088812]\n [0.30599503 0.55079106 0.48959205 0.55079106 0.24479602]]\n"
     ]
    }
   ],
   "source": [
    "np.random.seed(0)\n",
    "x = np.random.randint(10,size=(5,5))\n",
    "print(np.mean(x),np.std(x))\n",
    "print(x)\n",
    "from sklearn import preprocessing\n",
    "print(preprocessing.normalize(x))"
   ]
  },
  {
   "cell_type": "code",
   "execution_count": 172,
   "metadata": {},
   "outputs": [
    {
     "output_type": "execute_result",
     "data": {
      "text/plain": [
       "array([[0.27777778, 0.        , 0.16666667, 0.16666667, 0.38888889],\n",
       "       [0.39130435, 0.13043478, 0.2173913 , 0.08695652, 0.17391304],\n",
       "       [0.23333333, 0.2       , 0.26666667, 0.26666667, 0.03333333],\n",
       "       [0.20689655, 0.24137931, 0.24137931, 0.27586207, 0.03448276],\n",
       "       [0.14285714, 0.25714286, 0.22857143, 0.25714286, 0.11428571]])"
      ]
     },
     "metadata": {},
     "execution_count": 172
    }
   ],
   "source": [
    "row_sums = x.sum(axis=1)\n",
    "y = x / row_sums[:, np.newaxis]\n",
    "y"
   ]
  },
  {
   "cell_type": "code",
   "execution_count": 173,
   "metadata": {},
   "outputs": [
    {
     "output_type": "execute_result",
     "data": {
      "text/plain": [
       "array([[-0.14990634, -2.02373556, -0.89943803, -0.89943803,  0.59962535],\n",
       "       [ 1.34915704, -0.89943803, -0.14990634, -1.27420387, -0.52467218],\n",
       "       [ 0.59962535,  0.22485951,  0.9743912 ,  0.9743912 , -1.64896972],\n",
       "       [ 0.22485951,  0.59962535,  0.59962535,  0.9743912 , -1.64896972],\n",
       "       [-0.14990634,  1.34915704,  0.9743912 ,  1.34915704, -0.52467218]])"
      ]
     },
     "metadata": {},
     "execution_count": 173
    }
   ],
   "source": [
    "y = x - np.mean(x)\n",
    "y = y/np.std(x)\n",
    "y"
   ]
  },
  {
   "source": [
    "### 8."
   ],
   "cell_type": "markdown",
   "metadata": {}
  },
  {
   "cell_type": "code",
   "execution_count": 174,
   "metadata": {},
   "outputs": [
    {
     "output_type": "execute_result",
     "data": {
      "text/plain": [
       "array([0, 1, 2, 3, 4, 5, 6, 7, 8, 9])"
      ]
     },
     "metadata": {},
     "execution_count": 174
    }
   ],
   "source": [
    "x = np.arange(0,3)\n",
    "y = np.arange(3,7)\n",
    "z = np.arange(7,10)\n",
    "np.concatenate([x,y,z])"
   ]
  },
  {
   "source": [
    "### 9."
   ],
   "cell_type": "markdown",
   "metadata": {}
  },
  {
   "cell_type": "code",
   "execution_count": 175,
   "metadata": {},
   "outputs": [
    {
     "output_type": "execute_result",
     "data": {
      "text/plain": [
       "array([[44, 47, 64, 67, 67,  9, 83, 21, 36, 87, 70, 88, 88, 12, 58, 65,\n",
       "        39, 87, 46, 88]])"
      ]
     },
     "metadata": {},
     "execution_count": 175
    }
   ],
   "source": [
    "np.random.seed(0)\n",
    "x = np.random.randint(100, size=(1,20))\n",
    "x"
   ]
  },
  {
   "cell_type": "code",
   "execution_count": 176,
   "metadata": {},
   "outputs": [
    {
     "output_type": "stream",
     "name": "stdout",
     "text": [
      "result_index =  [0, 1, 7, 8, 16, 18]\nresult_value =  [44, 47, 21, 36, 39, 46]\n"
     ]
    },
    {
     "output_type": "execute_result",
     "data": {
      "text/plain": [
       "(array([ 0,  1,  7,  8, 16, 18], dtype=int64),)"
      ]
     },
     "metadata": {},
     "execution_count": 176
    }
   ],
   "source": [
    "result_index = []\n",
    "result_value = []\n",
    "x = x[0]\n",
    "for i in range(len(x)):\n",
    "    if (x[i] <= 55 and x[i] >= 15):\n",
    "        result_index.append(i)\n",
    "        result_value.append(x[i])\n",
    "    \n",
    "print(\"result_index = \", result_index)\n",
    "print(\"result_value = \",result_value)\n",
    "#Alternative\n",
    "x1 = np.where(np.logical_and(x>=15, x<=55))\n",
    "x1"
   ]
  },
  {
   "source": [
    "### 10."
   ],
   "cell_type": "markdown",
   "metadata": {}
  },
  {
   "cell_type": "code",
   "execution_count": 177,
   "metadata": {},
   "outputs": [
    {
     "output_type": "stream",
     "name": "stdout",
     "text": [
      "(array([1, 3, 5, 7], dtype=int64),)\n"
     ]
    }
   ],
   "source": [
    "a = np.array([1,2,3,2,3,4,3,4,5,6])\n",
    "b = np.array([7,2,10,2,7,4,9,4,9,8])\n",
    "print(np.where(a==b))"
   ]
  },
  {
   "source": [
    "### 11."
   ],
   "cell_type": "markdown",
   "metadata": {}
  },
  {
   "cell_type": "code",
   "execution_count": 178,
   "metadata": {},
   "outputs": [
    {
     "output_type": "execute_result",
     "data": {
      "text/plain": [
       "array([ 0, -1,  2, -1,  4, -1,  6, -1,  8, -1, 10, -1, 12, -1, 14, -1, 16,\n",
       "       -1, 18, -1, 20])"
      ]
     },
     "metadata": {},
     "execution_count": 178
    }
   ],
   "source": [
    "x = np.arange(21)\n",
    "np.where(x%2 == 1, -1, x)"
   ]
  },
  {
   "source": [
    "### 12."
   ],
   "cell_type": "markdown",
   "metadata": {}
  },
  {
   "cell_type": "code",
   "execution_count": 179,
   "metadata": {},
   "outputs": [
    {
     "output_type": "stream",
     "name": "stdout",
     "text": [
      "[[44 47 64 67 67  9 83 21 36 87]]\n"
     ]
    }
   ],
   "source": [
    "np.random.seed(0)\n",
    "x = np.random.randint(100, size = (1,10))\n",
    "print(x)"
   ]
  },
  {
   "cell_type": "code",
   "execution_count": 180,
   "metadata": {},
   "outputs": [
    {
     "output_type": "stream",
     "name": "stdout",
     "text": [
      "[[37 12 72  9 75  5 79 64 16  1]]\n"
     ]
    }
   ],
   "source": [
    "np.random.seed(1)\n",
    "y = np.random.randint(100, size=(1,10))\n",
    "print(y)"
   ]
  },
  {
   "cell_type": "code",
   "execution_count": 181,
   "metadata": {},
   "outputs": [
    {
     "output_type": "stream",
     "name": "stdout",
     "text": [
      "4.25 µs ± 395 ns per loop (mean ± std. dev. of 7 runs, 100000 loops each)\n"
     ]
    }
   ],
   "source": [
    "%timeit np.sum(x)"
   ]
  },
  {
   "cell_type": "code",
   "execution_count": 182,
   "metadata": {},
   "outputs": [
    {
     "output_type": "stream",
     "name": "stdout",
     "text": [
      "4.23 µs ± 419 ns per loop (mean ± std. dev. of 7 runs, 100000 loops each)\n"
     ]
    }
   ],
   "source": [
    "%timeit np.sum(y)"
   ]
  },
  {
   "cell_type": "code",
   "execution_count": 183,
   "metadata": {},
   "outputs": [
    {
     "output_type": "stream",
     "name": "stdout",
     "text": [
      "2.7 µs ± 214 ns per loop (mean ± std. dev. of 7 runs, 100000 loops each)\n"
     ]
    }
   ],
   "source": [
    "%timeit np.cumsum(x)[-1]"
   ]
  },
  {
   "cell_type": "code",
   "execution_count": 184,
   "metadata": {},
   "outputs": [
    {
     "output_type": "stream",
     "name": "stdout",
     "text": [
      "5.98 µs ± 113 ns per loop (mean ± std. dev. of 7 runs, 100000 loops each)\n"
     ]
    }
   ],
   "source": [
    "%timeit np.nansum(x)"
   ]
  },
  {
   "cell_type": "code",
   "execution_count": 185,
   "metadata": {},
   "outputs": [],
   "source": [
    "x = np.array(x[0])"
   ]
  },
  {
   "cell_type": "code",
   "execution_count": 186,
   "metadata": {},
   "outputs": [
    {
     "output_type": "stream",
     "name": "stdout",
     "text": [
      "2.47 µs ± 47.3 ns per loop (mean ± std. dev. of 7 runs, 100000 loops each)\n"
     ]
    }
   ],
   "source": [
    "%timeit sum(x)"
   ]
  },
  {
   "source": [
    "### 13."
   ],
   "cell_type": "markdown",
   "metadata": {}
  },
  {
   "cell_type": "code",
   "execution_count": 187,
   "metadata": {},
   "outputs": [
    {
     "output_type": "execute_result",
     "data": {
      "text/plain": [
       "array([44, 47, 64])"
      ]
     },
     "metadata": {},
     "execution_count": 187
    }
   ],
   "source": [
    "np.random.seed(0)\n",
    "x = np.zeros((10,10))\n",
    "y = np.random.randint(100, size=(1,3))\n",
    "y = y[0] # indexes to replace\n",
    "y"
   ]
  },
  {
   "cell_type": "code",
   "execution_count": 188,
   "metadata": {},
   "outputs": [
    {
     "output_type": "execute_result",
     "data": {
      "text/plain": [
       "array([[ 0.,  0.,  0.,  0.,  0.,  0.,  0.,  0.,  0.,  0.],\n",
       "       [ 0.,  0.,  0.,  0.,  0.,  0.,  0.,  0.,  0.,  0.],\n",
       "       [ 0.,  0.,  0.,  0.,  0.,  0.,  0.,  0.,  0.,  0.],\n",
       "       [ 0.,  0.,  0.,  0.,  0.,  0.,  0.,  0.,  0.,  0.],\n",
       "       [ 0.,  0.,  0.,  0., 44.,  0.,  0., 47.,  0.,  0.],\n",
       "       [ 0.,  0.,  0.,  0.,  0.,  0.,  0.,  0.,  0.,  0.],\n",
       "       [ 0.,  0.,  0.,  0., 64.,  0.,  0.,  0.,  0.,  0.],\n",
       "       [ 0.,  0.,  0.,  0.,  0.,  0.,  0.,  0.,  0.,  0.],\n",
       "       [ 0.,  0.,  0.,  0.,  0.,  0.,  0.,  0.,  0.,  0.],\n",
       "       [ 0.,  0.,  0.,  0.,  0.,  0.,  0.,  0.,  0.,  0.]])"
      ]
     },
     "metadata": {},
     "execution_count": 188
    }
   ],
   "source": [
    "x = np.reshape(x, (1,100)) # make original array as 1D\n",
    "np.put(x, y, y) # replace indexes with the same index value\n",
    "x = x.reshape(10,10) # reshape into original 10x10 format\n",
    "x"
   ]
  },
  {
   "source": [
    "### 14."
   ],
   "cell_type": "markdown",
   "metadata": {}
  },
  {
   "cell_type": "code",
   "execution_count": 189,
   "metadata": {},
   "outputs": [
    {
     "output_type": "execute_result",
     "data": {
      "text/plain": [
       "array([[44, 47, 64, 67, 67,  9, 83, 21, 36, 87],\n",
       "       [70, 88, 88, 12, 58, 65, 39, 87, 46, 88],\n",
       "       [81, 37, 25, 77, 72,  9, 20, 80, 69, 79],\n",
       "       [47, 64, 82, 99, 88, 49, 29, 19, 19, 14],\n",
       "       [39, 32, 65,  9, 57, 32, 31, 74, 23, 35]])"
      ]
     },
     "metadata": {},
     "execution_count": 189
    }
   ],
   "source": [
    "np.random.seed(0)\n",
    "x = np.random.randint(100, size=(5,10))\n",
    "x"
   ]
  },
  {
   "cell_type": "code",
   "execution_count": 190,
   "metadata": {},
   "outputs": [
    {
     "output_type": "execute_result",
     "data": {
      "text/plain": [
       "array([52.5, 64.1, 54.9, 51. , 39.7])"
      ]
     },
     "metadata": {},
     "execution_count": 190
    }
   ],
   "source": [
    "mean = np.mean(x, axis=1)\n",
    "mean"
   ]
  },
  {
   "cell_type": "code",
   "execution_count": 191,
   "metadata": {},
   "outputs": [
    {
     "output_type": "stream",
     "name": "stdout",
     "text": [
      "[[ -8.5  -5.5  11.5  14.5  14.5 -43.5  30.5 -31.5 -16.5  34.5]\n [  5.9  23.9  23.9 -52.1  -6.1   0.9 -25.1  22.9 -18.1  23.9]\n [ 26.1 -17.9 -29.9  22.1  17.1 -45.9 -34.9  25.1  14.1  24.1]\n [ -4.   13.   31.   48.   37.   -2.  -22.  -32.  -32.  -37. ]\n [ -0.7  -7.7  25.3 -30.7  17.3  -7.7  -8.7  34.3 -16.7  -4.7]]\n"
     ]
    }
   ],
   "source": [
    "x = x - x.mean(axis=1, keepdims = True)\n",
    "print(x)"
   ]
  },
  {
   "source": [
    "# 3. Indexing and slicing"
   ],
   "cell_type": "markdown",
   "metadata": {}
  },
  {
   "cell_type": "code",
   "execution_count": 192,
   "metadata": {},
   "outputs": [],
   "source": [
    "x = [ 3, 6, 9, 25, 10, 8] "
   ]
  },
  {
   "source": [
    "### 1.1"
   ],
   "cell_type": "markdown",
   "metadata": {}
  },
  {
   "cell_type": "code",
   "execution_count": 193,
   "metadata": {},
   "outputs": [
    {
     "output_type": "execute_result",
     "data": {
      "text/plain": [
       "[6, 9, 25, 10, 8]"
      ]
     },
     "metadata": {},
     "execution_count": 193
    }
   ],
   "source": [
    "x[1:]"
   ]
  },
  {
   "source": [
    "### 1.2"
   ],
   "cell_type": "markdown",
   "metadata": {}
  },
  {
   "cell_type": "code",
   "execution_count": 194,
   "metadata": {},
   "outputs": [
    {
     "output_type": "execute_result",
     "data": {
      "text/plain": [
       "[3, 6, 9, 25, 10]"
      ]
     },
     "metadata": {},
     "execution_count": 194
    }
   ],
   "source": [
    "x[:-1]"
   ]
  },
  {
   "source": [
    "### 1.3"
   ],
   "cell_type": "markdown",
   "metadata": {}
  },
  {
   "cell_type": "code",
   "execution_count": 195,
   "metadata": {},
   "outputs": [
    {
     "output_type": "execute_result",
     "data": {
      "text/plain": [
       "[3, 9, 10]"
      ]
     },
     "metadata": {},
     "execution_count": 195
    }
   ],
   "source": [
    "x[::2]"
   ]
  },
  {
   "source": [
    "### 1.4"
   ],
   "cell_type": "markdown",
   "metadata": {}
  },
  {
   "cell_type": "code",
   "execution_count": 196,
   "metadata": {},
   "outputs": [
    {
     "output_type": "execute_result",
     "data": {
      "text/plain": [
       "array([ 8, 10, 25,  9,  6,  3])"
      ]
     },
     "metadata": {},
     "execution_count": 196
    }
   ],
   "source": [
    "np.flip(x)"
   ]
  },
  {
   "source": [
    "### 2. Multidimensional arrays"
   ],
   "cell_type": "markdown",
   "metadata": {}
  },
  {
   "source": [
    "### 2.1"
   ],
   "cell_type": "markdown",
   "metadata": {}
  },
  {
   "cell_type": "code",
   "execution_count": 197,
   "metadata": {},
   "outputs": [
    {
     "output_type": "stream",
     "name": "stdout",
     "text": [
      "[[ 0  1  2  3]\n [ 4  5  6  7]\n [ 8  9 10 11]\n [12 13 14 15]\n [16 17 18 19]\n [20 21 22 23]\n [24 25 26 27]\n [28 29 30 31]]\n"
     ]
    }
   ],
   "source": [
    "x = np.arange(32).reshape(8,4)\n",
    "print(x)"
   ]
  },
  {
   "source": [
    "### 2.2"
   ],
   "cell_type": "markdown",
   "metadata": {}
  },
  {
   "cell_type": "code",
   "execution_count": 198,
   "metadata": {},
   "outputs": [
    {
     "output_type": "stream",
     "name": "stdout",
     "text": [
      "[[ 0  1  0  3]\n [ 4  5  6  7]\n [ 8  9 10 11]\n [12 13 14 15]\n [16 17 18 19]\n [20 21 22 23]\n [24 25 26 27]\n [28 29 30 31]]\n"
     ]
    }
   ],
   "source": [
    "x[0,2] = 0\n",
    "print(x)"
   ]
  },
  {
   "source": [
    "### 2.3"
   ],
   "cell_type": "markdown",
   "metadata": {}
  },
  {
   "cell_type": "code",
   "execution_count": 199,
   "metadata": {},
   "outputs": [
    {
     "output_type": "stream",
     "name": "stdout",
     "text": [
      "[ 1  5  9 13 17 21 25 29]\n"
     ]
    }
   ],
   "source": [
    "print(x[:, 1]) # indexing starts from 0"
   ]
  },
  {
   "source": [
    "### 2.4"
   ],
   "cell_type": "markdown",
   "metadata": {}
  },
  {
   "cell_type": "code",
   "execution_count": 200,
   "metadata": {},
   "outputs": [],
   "source": [
    "x = np.array([[ 9, 10, 11],\n",
    " [13, 14, 15],\n",
    " [17, 18, 19]])"
   ]
  },
  {
   "cell_type": "code",
   "execution_count": 201,
   "metadata": {},
   "outputs": [
    {
     "output_type": "execute_result",
     "data": {
      "text/plain": [
       "array([[ 9, 10, 11],\n",
       "       [13, 14, 15],\n",
       "       [17, 18, 19]])"
      ]
     },
     "metadata": {},
     "execution_count": 201
    }
   ],
   "source": [
    "x[:3, :3]"
   ]
  },
  {
   "source": [
    "### 3."
   ],
   "cell_type": "markdown",
   "metadata": {}
  },
  {
   "cell_type": "code",
   "execution_count": 202,
   "metadata": {},
   "outputs": [
    {
     "output_type": "execute_result",
     "data": {
      "text/plain": [
       "array([[0., 0., 0., 0.],\n",
       "       [0., 0., 0., 0.],\n",
       "       [0., 0., 0., 0.],\n",
       "       [0., 0., 0., 0.]])"
      ]
     },
     "metadata": {},
     "execution_count": 202
    }
   ],
   "source": [
    "x = np.zeros((4,4))\n",
    "x"
   ]
  },
  {
   "cell_type": "code",
   "execution_count": 203,
   "metadata": {},
   "outputs": [
    {
     "output_type": "stream",
     "name": "stdout",
     "text": [
      "[[0. 1. 0. 1.]\n [1. 0. 1. 0.]\n [0. 1. 0. 1.]\n [1. 0. 1. 0.]]\n"
     ]
    }
   ],
   "source": [
    "x[::2, 1::2] = 1\n",
    "x[1::2, ::2] = 1\n",
    "print(x)"
   ]
  },
  {
   "source": [
    "# 4. Broadcasting"
   ],
   "cell_type": "markdown",
   "metadata": {}
  },
  {
   "source": [
    "### 4.1"
   ],
   "cell_type": "markdown",
   "metadata": {}
  },
  {
   "cell_type": "code",
   "execution_count": 204,
   "metadata": {},
   "outputs": [],
   "source": [
    "a_2d = np.array([[3,3,3],[4,4,4],[5,5,5]])\n",
    "b_1d = np.array([1,2,3])"
   ]
  },
  {
   "cell_type": "code",
   "execution_count": 205,
   "metadata": {},
   "outputs": [
    {
     "output_type": "stream",
     "name": "stdout",
     "text": [
      "[[2 2 2]\n [2 2 2]\n [2 2 2]]\n"
     ]
    }
   ],
   "source": [
    "print(a_2d - b_1d.reshape(3,1))"
   ]
  },
  {
   "source": [
    "### 4.2"
   ],
   "cell_type": "markdown",
   "metadata": {}
  },
  {
   "cell_type": "code",
   "execution_count": 206,
   "metadata": {},
   "outputs": [
    {
     "output_type": "stream",
     "name": "stdout",
     "text": [
      "[[ 1  2  3  4  5  6]\n [ 2  4  6  8 10 12]\n [ 3  6  9 12 15 18]\n [ 4  8 12 16 20 24]\n [ 5 10 15 20 25 30]\n [ 6 12 18 24 30 36]]\n"
     ]
    }
   ],
   "source": [
    "x = np.arange(1,7).reshape(6,1)\n",
    "y = np.arange(1,7).reshape(1,6)\n",
    "print(x * y)"
   ]
  },
  {
   "cell_type": "code",
   "execution_count": 207,
   "metadata": {},
   "outputs": [
    {
     "output_type": "stream",
     "name": "stdout",
     "text": [
      "[[1, 2, 3, 4, 5, 6], [2, 4, 6, 8, 10, 12], [3, 6, 9, 12, 15, 18], [4, 8, 12, 16, 20, 24], [5, 10, 15, 20, 25, 30], [6, 12, 18, 24, 30, 36]]\n"
     ]
    }
   ],
   "source": [
    "x = [[0] * 6 for i in range(6)]\n",
    "for i in range(1,7):\n",
    "    for j in range(1,7):\n",
    "        x[i-1][j-1] = i * j\n",
    "print(x)"
   ]
  },
  {
   "cell_type": "code",
   "execution_count": null,
   "metadata": {},
   "outputs": [],
   "source": []
  }
 ]
}